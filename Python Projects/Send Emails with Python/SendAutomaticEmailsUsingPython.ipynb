{
  "nbformat": 4,
  "nbformat_minor": 0,
  "metadata": {
    "colab": {
      "name": "SendAutomaticEmailsUsingPython.ipynb",
      "provenance": [],
      "collapsed_sections": []
    },
    "kernelspec": {
      "name": "python3",
      "display_name": "Python 3"
    },
    "language_info": {
      "name": "python"
    }
  },
  "cells": [
    {
      "cell_type": "markdown",
      "metadata": {
        "id": "QQQzMuO7ayte"
      },
      "source": [
        "#Send Automatic Emails using Pyhton\n",
        "\n",
        "In the code below, I have defined a Python function that will automatically send emails to a user. This function will start by asking for the user’s name and email. Then the user’s name will be stored in the message. After that just run the above code and you will see the output. Please make sure you have replaced the content of line 5th and 6th with required content.\n",
        "\n",
        "> Gmail SMTP Server is used for sending emails. So, Your First Task is to generate a [Google App Password](https://support.google.com/accounts/answer/185833?hl=en) for your Gmail Account. If you don't know how to generate it, watch [this](https://www.youtube.com/watch?v=ndxUgivCszE) video."
      ]
    },
    {
      "cell_type": "code",
      "metadata": {
        "id": "ftfdzXLLatum"
      },
      "source": [
        "import os\n",
        "import random\n",
        "import smtplib\n",
        "\n",
        "your_gmail_account = \"\" #Replace your Gmail Account Here\n",
        "your_app_password = \"\" #Replace Your App Password Here\n",
        "\n",
        "def automatic_email():\n",
        "    user = input(\"Enter Your Name >> \")\n",
        "    email = input(\"Enter Your Email >> \")\n",
        "    message = (f\"Dear {user}, This mail comes from Python.\")\n",
        "    s = smtplib.SMTP('smtp.gmail.com', 587)\n",
        "    s.starttls()\n",
        "    s.login(your_gmail_account, your_app_password)\n",
        "    s.sendmail(your_gmail_account, email, message)\n",
        "    print(\"Email Sent!\")\n",
        "    \n",
        "automatic_email()"
      ],
      "execution_count": null,
      "outputs": []
    }
  ]
}